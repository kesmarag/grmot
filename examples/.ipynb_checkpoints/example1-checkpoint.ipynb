{
 "cells": [
  {
   "cell_type": "code",
   "execution_count": 4,
   "id": "imported-render",
   "metadata": {},
   "outputs": [],
   "source": [
    "from pyproj import Proj\n",
    "from grmot import approx_elliptical_crack, Fault\n",
    "import numpy as np\n",
    "import time\n",
    "import sys\n",
    "import os"
   ]
  },
  {
   "cell_type": "code",
   "execution_count": 8,
   "id": "informative-disability",
   "metadata": {},
   "outputs": [],
   "source": [
    "medium = ((2.8, 5.7, 3.2, 0.0),) \n",
    "loc = (x_fault,y_fault,z_fault) # (x_fault,y_fault,z_fault)\n",
    "angles = (55*np.pi/180., 195*np.pi/180., -90.*np.pi/180.) # (dip,strike,rake)\n",
    "fpars = (1/40, 3.2) # (df [Hz], f_max [Hz])\n",
    "conf = (400, 400, 180, 180, 0.8) # (nx_max, ny_max, Lx, Ly)\n",
    "fault = Fault(angles,loc,fpars,medium,conf)"
   ]
  },
  {
   "cell_type": "code",
   "execution_count": null,
   "id": "intensive-milan",
   "metadata": {},
   "outputs": [],
   "source": [
    "source = ((0.2, 0.2, 0.0, 0.0, 0.0, 0.0),\n",
    "          [(0.0, 0.0), (0.1, 1.0)])\n",
    "\n",
    "receivers = [(10.0,10.0)]\n",
    "\n",
    "dn,de,dv,vn,ve,vv,an,ae,av = fault.simulate(source, receivers, 2048)\n"
   ]
  },
  {
   "cell_type": "code",
   "execution_count": null,
   "id": "robust-sleeve",
   "metadata": {},
   "outputs": [],
   "source": []
  }
 ],
 "metadata": {
  "kernelspec": {
   "display_name": "Python 3",
   "language": "python",
   "name": "python3"
  },
  "language_info": {
   "codemirror_mode": {
    "name": "ipython",
    "version": 3
   },
   "file_extension": ".py",
   "mimetype": "text/x-python",
   "name": "python",
   "nbconvert_exporter": "python",
   "pygments_lexer": "ipython3",
   "version": "3.7.13"
  }
 },
 "nbformat": 4,
 "nbformat_minor": 5
}
