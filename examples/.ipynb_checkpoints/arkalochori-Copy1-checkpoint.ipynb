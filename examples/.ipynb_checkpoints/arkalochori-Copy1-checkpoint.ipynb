{
 "cells": [
  {
   "cell_type": "code",
   "execution_count": 1,
   "id": "imported-render",
   "metadata": {},
   "outputs": [],
   "source": [
    "from pyproj import Proj\n",
    "from dwr3d import approx_elliptical_crack, Fault, latlon_to_km\n",
    "import numpy as np\n",
    "import matplotlib.pyplot as plt\n",
    "import time\n",
    "import sys\n",
    "import os\n",
    "from matplotlib.image import imread\n",
    "from dracula import cmap_d\n",
    "import seaborn\n",
    "from obspy import read\n",
    "plt.style.use('seaborn')\n",
    "from scipy.signal import butter, lfilter, freqz\n",
    "import warnings\n",
    "warnings.filterwarnings(\"ignore\")"
   ]
  },
  {
   "cell_type": "code",
   "execution_count": 2,
   "id": "unexpected-language",
   "metadata": {},
   "outputs": [],
   "source": [
    "receivers_db = {\n",
    "# 'ARKL' : (35.1339, 25.2689),\n",
    "'TEST5' : (35.4241, 25.1415)\n",
    "}"
   ]
  },
  {
   "cell_type": "code",
   "execution_count": 3,
   "id": "speaking-church",
   "metadata": {},
   "outputs": [],
   "source": [
    "L = 8.4\n",
    "W = 14.0\n",
    "radius = 1.4\n",
    "dl = 0.2    \n",
    "vr = 2.2"
   ]
  },
  {
   "cell_type": "code",
   "execution_count": 4,
   "id": "reduced-literacy",
   "metadata": {},
   "outputs": [],
   "source": [
    "# create the circular cracks\n",
    "crack_lst = []\n",
    "for row in range(3):\n",
    "    for col in range(5):\n",
    "        tmp = [L, W, dl, radius, radius, radius+row*2*radius, -W/2 + radius+col*2*radius, 1.0, 0.0, 0.0, 0.0, vr, str(row*5+col)]\n",
    "        crack_lst.append(tmp)\n",
    "        \n",
    "sources = []   \n",
    "m0s = []\n",
    "crack_names = []\n",
    "for i,it in enumerate(crack_lst):\n",
    "    source, m0, _,_,_,cn = approx_elliptical_crack(it)\n",
    "    sources.append(source)\n",
    "    m0s.append(m0)\n",
    "    crack_names.append(cn)"
   ]
  },
  {
   "cell_type": "code",
   "execution_count": 5,
   "id": "potential-services",
   "metadata": {},
   "outputs": [],
   "source": [
    "medium = (\n",
    "          (2.8, 5.7, 3.2, 0.01),\n",
    "          (2.8, 5.7, 3.2, 0.01),\n",
    "          (2.8, 5.7, 3.2, 0.0),\n",
    "         ) \n",
    "\n",
    "# medium = (\n",
    "#           (2.8, 5.7, 3.2, 0.05),\n",
    "#           (2.8, 5.7, 3.2, 0.05),\n",
    "#           (2.8, 5.7, 3.2, 0.0)\n",
    "#          ) \n"
   ]
  },
  {
   "cell_type": "code",
   "execution_count": 6,
   "id": "existing-cleaner",
   "metadata": {},
   "outputs": [],
   "source": [
    "lat_fault, lon_fault, z_fault = 35.138, 25.309, 1.2\n",
    "x_fault, y_fault = latlon_to_km(lat_fault,lon_fault)\n",
    "loc = (x_fault,y_fault,z_fault) "
   ]
  },
  {
   "cell_type": "code",
   "execution_count": 7,
   "id": "pregnant-carroll",
   "metadata": {},
   "outputs": [],
   "source": [
    "dims = (dl, dl) # (length [km], width [km])\n",
    "angles = (55*np.pi/180., 195*np.pi/180., -90.*np.pi/180.) # (dip,strike,rake)\n",
    "fpars = (1/40, 1.0) # (df [Hz], f_max [Hz])"
   ]
  },
  {
   "cell_type": "code",
   "execution_count": 8,
   "id": "informative-disability",
   "metadata": {},
   "outputs": [],
   "source": [
    "conf = (400, 400, 150, 150, 0.8) # (nx_max, ny_max, Lx, Ly)\n",
    "tic = time.time()\n",
    "fault = Fault(angles,loc,fpars,medium,conf)\n",
    "toc = time.time()"
   ]
  },
  {
   "cell_type": "code",
   "execution_count": null,
   "id": "unexpected-prefix",
   "metadata": {},
   "outputs": [],
   "source": [
    "dir_name = './arkalochori_test'\n",
    "\n",
    "for receiver_name in receivers_db:\n",
    "    receivers=[]\n",
    "    x_receiver, y_receiver = latlon_to_km(receivers_db[receiver_name][0], receivers_db[receiver_name][1])\n",
    "    receivers.append((x_receiver, y_receiver))\n",
    "    for i, it in enumerate(sources):\n",
    "        dn,de,dv,vn,ve,vv,an,ae,av = fault.simulate(it, receivers, 2048)\n",
    "        np.savez(dir_name + '/' + receiver_name + '_' + crack_names[i] + '.npz', \n",
    "                  dn = dn[0],\n",
    "                  de = de[0],\n",
    "                  dv = dv[0],\n",
    "                  vn = vn[0],\n",
    "                  ve = ve[0],\n",
    "                  vv = vv[0],\n",
    "                  an = an[0],\n",
    "                  ae = ae[0],\n",
    "                  av = av[0],\n",
    "                  m0 = m0s[i]\n",
    "                 )\n"
   ]
  },
  {
   "cell_type": "code",
   "execution_count": null,
   "id": "robust-sleeve",
   "metadata": {},
   "outputs": [],
   "source": []
  }
 ],
 "metadata": {
  "kernelspec": {
   "display_name": "Python 3",
   "language": "python",
   "name": "python3"
  },
  "language_info": {
   "codemirror_mode": {
    "name": "ipython",
    "version": 3
   },
   "file_extension": ".py",
   "mimetype": "text/x-python",
   "name": "python",
   "nbconvert_exporter": "python",
   "pygments_lexer": "ipython3",
   "version": "3.7.13"
  }
 },
 "nbformat": 4,
 "nbformat_minor": 5
}
